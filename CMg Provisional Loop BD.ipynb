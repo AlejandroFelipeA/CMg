{
 "cells": [
  {
   "cell_type": "code",
   "execution_count": 1,
   "id": "9949c49f-a820-4074-b38d-95aedd52e2ee",
   "metadata": {},
   "outputs": [
    {
     "data": {
      "text/plain": [
       "'es_ES.utf8'"
      ]
     },
     "execution_count": 1,
     "metadata": {},
     "output_type": "execute_result"
    }
   ],
   "source": [
    "import os\n",
    "import pandas as pd\n",
    "import pymysql\n",
    "from functools import reduce\n",
    "import time\n",
    "import numpy as np\n",
    "from datetime import datetime\n",
    "from datetime import date\n",
    "from datetime import timedelta\n",
    "#import datetime as dt\n",
    "import locale\n",
    "locale.setlocale(locale.LC_ALL, 'es_ES.utf8')"
   ]
  },
  {
   "cell_type": "code",
   "execution_count": 187,
   "id": "e4ea9699-c12a-4423-b1c3-03d3637071bc",
   "metadata": {},
   "outputs": [
    {
     "data": {
      "text/plain": [
       "'C:\\\\Users\\\\Alejandro\\\\Documents\\\\Notebook Scripts\\\\CMg'"
      ]
     },
     "execution_count": 187,
     "metadata": {},
     "output_type": "execute_result"
    }
   ],
   "source": [
    "main_path = os.path.abspath('')\n",
    "main_path"
   ]
  },
  {
   "cell_type": "code",
   "execution_count": 188,
   "id": "7a3933a6-45e6-493d-9869-e7ab4c0b0eda",
   "metadata": {},
   "outputs": [
    {
     "data": {
      "text/plain": [
       "datetime.date(2022, 6, 30)"
      ]
     },
     "execution_count": 188,
     "metadata": {},
     "output_type": "execute_result"
    }
   ],
   "source": [
    "fecha = date.today()\n",
    "fecha"
   ]
  },
  {
   "cell_type": "code",
   "execution_count": 189,
   "id": "ddb87c4c-60f3-4f7f-bc53-706e6afc262e",
   "metadata": {},
   "outputs": [
    {
     "data": {
      "text/plain": [
       "'2022-6'"
      ]
     },
     "execution_count": 189,
     "metadata": {},
     "output_type": "execute_result"
    }
   ],
   "source": [
    "# mes actual\n",
    "año = str(fecha. year) \n",
    "mes = str(fecha. month) \n",
    "año_mes = año + '-' + mes\n",
    "año_mes"
   ]
  },
  {
   "cell_type": "code",
   "execution_count": 190,
   "id": "78bac578-5e23-4ec9-a419-b49a4a9481c8",
   "metadata": {},
   "outputs": [
    {
     "data": {
      "text/plain": [
       "'2022-5'"
      ]
     },
     "execution_count": 190,
     "metadata": {},
     "output_type": "execute_result"
    }
   ],
   "source": [
    "# mes previo\n",
    "mes_previo = (fecha. month) - 1\n",
    "\n",
    "# if mes enero / cambia el año al previo y mes de 0 a 12\n",
    "año_previo = (fecha. year)\n",
    "if mes_previo == 0:\n",
    "    mes_previo = 12\n",
    "    año_previo = (fecha. year)-1\n",
    "año_prev = str(año_previo)\n",
    "mes_prev = str(mes_previo)\n",
    "año_mes_prev = año_prev + '-' + mes_prev\n",
    "año_mes_prev"
   ]
  },
  {
   "cell_type": "code",
   "execution_count": 191,
   "id": "2b08b14f-c2da-4c35-a38a-efe658ec5963",
   "metadata": {},
   "outputs": [],
   "source": [
    "# cmg_real mes\n",
    "link_cmg_real_mes_pasado = 'https://sipubv1.api.coordinador.cl/api/v1/cmg_files/mensuales/' + año_mes_prev + '.tsv?user_key=f3cdad2758436a0a2c2c1fec92853de7'\n",
    "link_cmg_prog_mes_pasado = 'https://sipubv1.api.coordinador.cl/api/v1/cmg_files/barra/mensuales/' + año_mes_prev + '.tsv?user_key=f3cdad2758436a0a2c2c1fec92853de7'\n",
    "\n",
    "# cmg_real mes\n",
    "link_cmg_real = 'https://sipubv1.api.coordinador.cl/api/v1/cmg_files/mensuales/' + año_mes + '.tsv?user_key=f3cdad2758436a0a2c2c1fec92853de7'\n",
    "link_cmg_prog = 'https://sipubv1.api.coordinador.cl/api/v1/cmg_files/barra/mensuales/' + año_mes + '.tsv?user_key=f3cdad2758436a0a2c2c1fec92853de7'"
   ]
  },
  {
   "cell_type": "code",
   "execution_count": 192,
   "id": "631b1ebf-8519-4b6e-a903-935a289fa11f",
   "metadata": {},
   "outputs": [],
   "source": [
    "from selenium import webdriver\n"
   ]
  },
  {
   "cell_type": "code",
   "execution_count": 193,
   "id": "c7067238-6835-43c6-89f1-65d65229710e",
   "metadata": {},
   "outputs": [],
   "source": [
    "options = webdriver.ChromeOptions()\n"
   ]
  },
  {
   "cell_type": "code",
   "execution_count": 194,
   "id": "824d220b-daf4-4585-9f1a-99bf642f1a7e",
   "metadata": {},
   "outputs": [],
   "source": [
    "preferences = {\"download.default_directory\": main_path}\n"
   ]
  },
  {
   "cell_type": "code",
   "execution_count": 195,
   "id": "fc352940-c593-4846-b7e8-04539c8563a7",
   "metadata": {},
   "outputs": [],
   "source": [
    "options.add_experimental_option(\"prefs\", preferences)\n"
   ]
  },
  {
   "cell_type": "code",
   "execution_count": 196,
   "id": "c35d8593-9f87-4400-b779-150fda91c29c",
   "metadata": {},
   "outputs": [],
   "source": [
    "driver= webdriver.Chrome(options=options)\n"
   ]
  },
  {
   "cell_type": "code",
   "execution_count": 197,
   "id": "9a473b78-c434-4d0e-8cbe-46789c7c56a8",
   "metadata": {},
   "outputs": [],
   "source": [
    "# cmg_real \n",
    "driver.get(link_cmg_real)\n",
    "time.sleep(20)"
   ]
  },
  {
   "cell_type": "code",
   "execution_count": 198,
   "id": "dd3c1d17-99d4-443e-a963-5787f911f0b1",
   "metadata": {},
   "outputs": [],
   "source": [
    "# cmg_real_mes_previo\n",
    "driver.get(link_cmg_real_mes_pasado)\n",
    "time.sleep(20)"
   ]
  },
  {
   "cell_type": "code",
   "execution_count": 199,
   "id": "02dd17be-1463-41bd-8eb5-327853dcb04d",
   "metadata": {},
   "outputs": [],
   "source": [
    "# cmg_prog\n",
    "driver.get(link_cmg_prog)\n",
    "time.sleep(20)"
   ]
  },
  {
   "cell_type": "code",
   "execution_count": 200,
   "id": "9ffb5dcf-0e60-4cb1-90dc-fb791d0fc85f",
   "metadata": {},
   "outputs": [],
   "source": [
    "# cmg_prog_mes_previo\n",
    "driver.get(link_cmg_prog_mes_pasado)\n",
    "time.sleep(20)"
   ]
  },
  {
   "cell_type": "code",
   "execution_count": 201,
   "id": "8eac5bc6-0229-4b33-9374-771fdac59696",
   "metadata": {},
   "outputs": [],
   "source": [
    "driver.close();\n"
   ]
  },
  {
   "cell_type": "code",
   "execution_count": 202,
   "id": "b39b1393-6554-4a15-9386-52442c44ef13",
   "metadata": {},
   "outputs": [],
   "source": [
    "# rename cmg_real\n"
   ]
  },
  {
   "cell_type": "code",
   "execution_count": 203,
   "id": "dd78876b-4f0f-4357-a291-d1a1a7a171e0",
   "metadata": {},
   "outputs": [],
   "source": [
    "# rename cmg_real\n",
    "old_name_cmg_real = '2022-6.tsv'\n",
    "new_name_cmg_real = 'cmg_real.tsv'\n",
    "old_name_cmg_real_mes_previo = '2022-5.tsv'\n",
    "new_name_cmg_real_mes_previo = 'cmg_real_mes_previo.tsv'\n",
    "\n",
    "# rename cmg_prog\n",
    "old_name_cmg_prog = '2022-6 (1).tsv'\n",
    "new_name_cmg_prog = 'cmg_prog.tsv'\n",
    "old_name_cmg_prog_mes_previo = '2022-5 (1).tsv'\n",
    "new_name_cmg_prog_mes_previo = 'cmg_prog_mes_previo.tsv'"
   ]
  },
  {
   "cell_type": "code",
   "execution_count": 204,
   "id": "a01ac577-b690-4bac-a80a-47ce7d877344",
   "metadata": {},
   "outputs": [],
   "source": [
    "os.rename(old_name_cmg_real, new_name_cmg_real)\n",
    "os.rename(old_name_cmg_real_mes_previo, new_name_cmg_real_mes_previo)\n",
    "os.rename(old_name_cmg_prog, new_name_cmg_prog)\n",
    "os.rename(old_name_cmg_prog_mes_previo, new_name_cmg_prog_mes_previo)"
   ]
  },
  {
   "cell_type": "code",
   "execution_count": 180,
   "id": "af1db2e4-d031-454a-b95e-3f7a9342971a",
   "metadata": {},
   "outputs": [
    {
     "data": {
      "text/plain": [
       "'C:\\\\Users\\\\Alejandro\\\\Documents\\\\Notebook Scripts\\\\CMg\\\\cmg_real.tsv'"
      ]
     },
     "execution_count": 180,
     "metadata": {},
     "output_type": "execute_result"
    }
   ],
   "source": [
    "os.path.join(main_path, new_name_cmg_real)"
   ]
  },
  {
   "cell_type": "code",
   "execution_count": 181,
   "id": "47e87a67-9ed2-4149-a0fc-fc137474d1c5",
   "metadata": {},
   "outputs": [
    {
     "data": {
      "text/plain": [
       "'cmg_real.tsv'"
      ]
     },
     "execution_count": 181,
     "metadata": {},
     "output_type": "execute_result"
    }
   ],
   "source": [
    "new_name_cmg_real"
   ]
  },
  {
   "cell_type": "code",
   "execution_count": 223,
   "id": "09c2c337-3394-4efb-abc4-9e4ad5da241e",
   "metadata": {},
   "outputs": [],
   "source": [
    "#new_name_cmg_real\n",
    "cmg_real = pd.read_csv(os.path.join(main_path, new_name_cmg_real), sep = '\\t', decimal = ',')\n",
    "#new_name_cmg_real_mes_previo\n",
    "cmg_real_mes_previo  = pd.read_csv(os.path.join(main_path, new_name_cmg_real_mes_previo), sep = '\\t', decimal = ',')\n",
    "#new_name_cmg_prog\n",
    "cmg_prog  = pd.read_csv(os.path.join(main_path, new_name_cmg_prog), sep = '\\t', decimal = ',')\n",
    "#new_name_cmg_prog_mes_previo\n",
    "cmg_prog_mes_previo  = pd.read_csv(os.path.join(main_path, new_name_cmg_prog_mes_previo), sep = '\\t', decimal = ',')\n",
    "\n",
    "\n"
   ]
  },
  {
   "cell_type": "code",
   "execution_count": 224,
   "id": "4244afea-1434-4214-9e34-dccf7b215845",
   "metadata": {},
   "outputs": [
    {
     "data": {
      "text/html": [
       "<div>\n",
       "<style scoped>\n",
       "    .dataframe tbody tr th:only-of-type {\n",
       "        vertical-align: middle;\n",
       "    }\n",
       "\n",
       "    .dataframe tbody tr th {\n",
       "        vertical-align: top;\n",
       "    }\n",
       "\n",
       "    .dataframe thead th {\n",
       "        text-align: right;\n",
       "    }\n",
       "</style>\n",
       "<table border=\"1\" class=\"dataframe\">\n",
       "  <thead>\n",
       "    <tr style=\"text-align: right;\">\n",
       "      <th></th>\n",
       "      <th>barra_mnemotecnico</th>\n",
       "      <th>barra_referencia_mnemotecnico</th>\n",
       "      <th>fecha</th>\n",
       "      <th>hora</th>\n",
       "      <th>costo_en_dolares</th>\n",
       "      <th>costo_en_pesos</th>\n",
       "      <th>nombre</th>\n",
       "    </tr>\n",
       "  </thead>\n",
       "  <tbody>\n",
       "    <tr>\n",
       "      <th>0</th>\n",
       "      <td>BA02G033SE029T003</td>\n",
       "      <td>BA02T002SE032T002</td>\n",
       "      <td>2022-06-01</td>\n",
       "      <td>1</td>\n",
       "      <td>375.77</td>\n",
       "      <td>310.48372</td>\n",
       "      <td>BA S/E DEGAÑ 110KV [NO_MOSTRAR]</td>\n",
       "    </tr>\n",
       "    <tr>\n",
       "      <th>1</th>\n",
       "      <td>BA02G033SE029T003</td>\n",
       "      <td>BA02T002SE032T002</td>\n",
       "      <td>2022-06-01</td>\n",
       "      <td>2</td>\n",
       "      <td>375.77</td>\n",
       "      <td>310.48372</td>\n",
       "      <td>BA S/E DEGAÑ 110KV [NO_MOSTRAR]</td>\n",
       "    </tr>\n",
       "    <tr>\n",
       "      <th>2</th>\n",
       "      <td>BA02G033SE029T003</td>\n",
       "      <td>BA02T002SE032T002</td>\n",
       "      <td>2022-06-01</td>\n",
       "      <td>3</td>\n",
       "      <td>375.77</td>\n",
       "      <td>310.48372</td>\n",
       "      <td>BA S/E DEGAÑ 110KV [NO_MOSTRAR]</td>\n",
       "    </tr>\n",
       "    <tr>\n",
       "      <th>3</th>\n",
       "      <td>BA02G033SE029T003</td>\n",
       "      <td>BA02T002SE032T002</td>\n",
       "      <td>2022-06-01</td>\n",
       "      <td>4</td>\n",
       "      <td>375.77</td>\n",
       "      <td>310.48372</td>\n",
       "      <td>BA S/E DEGAÑ 110KV [NO_MOSTRAR]</td>\n",
       "    </tr>\n",
       "    <tr>\n",
       "      <th>4</th>\n",
       "      <td>BA02G033SE029T003</td>\n",
       "      <td>BA02T002SE032T002</td>\n",
       "      <td>2022-06-01</td>\n",
       "      <td>5</td>\n",
       "      <td>375.77</td>\n",
       "      <td>310.48372</td>\n",
       "      <td>BA S/E DEGAÑ 110KV [NO_MOSTRAR]</td>\n",
       "    </tr>\n",
       "    <tr>\n",
       "      <th>...</th>\n",
       "      <td>...</td>\n",
       "      <td>...</td>\n",
       "      <td>...</td>\n",
       "      <td>...</td>\n",
       "      <td>...</td>\n",
       "      <td>...</td>\n",
       "      <td>...</td>\n",
       "    </tr>\n",
       "    <tr>\n",
       "      <th>95251</th>\n",
       "      <td>BA01G344SE063G010</td>\n",
       "      <td>BA02T002SE032T002</td>\n",
       "      <td>2022-06-21</td>\n",
       "      <td>20</td>\n",
       "      <td>445.57</td>\n",
       "      <td>390.16337</td>\n",
       "      <td>BA S/E TAP OFF OESTE 220KV BP1 [EN_REVISION]</td>\n",
       "    </tr>\n",
       "    <tr>\n",
       "      <th>95252</th>\n",
       "      <td>BA01G344SE063G010</td>\n",
       "      <td>BA02T002SE032T002</td>\n",
       "      <td>2022-06-21</td>\n",
       "      <td>21</td>\n",
       "      <td>439.26</td>\n",
       "      <td>384.63802</td>\n",
       "      <td>BA S/E TAP OFF OESTE 220KV BP1 [EN_REVISION]</td>\n",
       "    </tr>\n",
       "    <tr>\n",
       "      <th>95253</th>\n",
       "      <td>BA01G344SE063G010</td>\n",
       "      <td>BA02T002SE032T002</td>\n",
       "      <td>2022-06-21</td>\n",
       "      <td>22</td>\n",
       "      <td>426.81</td>\n",
       "      <td>373.73618</td>\n",
       "      <td>BA S/E TAP OFF OESTE 220KV BP1 [EN_REVISION]</td>\n",
       "    </tr>\n",
       "    <tr>\n",
       "      <th>95254</th>\n",
       "      <td>BA01G344SE063G010</td>\n",
       "      <td>BA02T002SE032T002</td>\n",
       "      <td>2022-06-21</td>\n",
       "      <td>23</td>\n",
       "      <td>378.17</td>\n",
       "      <td>331.14456</td>\n",
       "      <td>BA S/E TAP OFF OESTE 220KV BP1 [EN_REVISION]</td>\n",
       "    </tr>\n",
       "    <tr>\n",
       "      <th>95255</th>\n",
       "      <td>BA01G344SE063G010</td>\n",
       "      <td>BA02T002SE032T002</td>\n",
       "      <td>2022-06-21</td>\n",
       "      <td>24</td>\n",
       "      <td>284.41</td>\n",
       "      <td>249.04362</td>\n",
       "      <td>BA S/E TAP OFF OESTE 220KV BP1 [EN_REVISION]</td>\n",
       "    </tr>\n",
       "  </tbody>\n",
       "</table>\n",
       "<p>95256 rows × 7 columns</p>\n",
       "</div>"
      ],
      "text/plain": [
       "      barra_mnemotecnico barra_referencia_mnemotecnico       fecha  hora  \\\n",
       "0      BA02G033SE029T003             BA02T002SE032T002  2022-06-01     1   \n",
       "1      BA02G033SE029T003             BA02T002SE032T002  2022-06-01     2   \n",
       "2      BA02G033SE029T003             BA02T002SE032T002  2022-06-01     3   \n",
       "3      BA02G033SE029T003             BA02T002SE032T002  2022-06-01     4   \n",
       "4      BA02G033SE029T003             BA02T002SE032T002  2022-06-01     5   \n",
       "...                  ...                           ...         ...   ...   \n",
       "95251  BA01G344SE063G010             BA02T002SE032T002  2022-06-21    20   \n",
       "95252  BA01G344SE063G010             BA02T002SE032T002  2022-06-21    21   \n",
       "95253  BA01G344SE063G010             BA02T002SE032T002  2022-06-21    22   \n",
       "95254  BA01G344SE063G010             BA02T002SE032T002  2022-06-21    23   \n",
       "95255  BA01G344SE063G010             BA02T002SE032T002  2022-06-21    24   \n",
       "\n",
       "       costo_en_dolares  costo_en_pesos  \\\n",
       "0                375.77       310.48372   \n",
       "1                375.77       310.48372   \n",
       "2                375.77       310.48372   \n",
       "3                375.77       310.48372   \n",
       "4                375.77       310.48372   \n",
       "...                 ...             ...   \n",
       "95251            445.57       390.16337   \n",
       "95252            439.26       384.63802   \n",
       "95253            426.81       373.73618   \n",
       "95254            378.17       331.14456   \n",
       "95255            284.41       249.04362   \n",
       "\n",
       "                                             nombre  \n",
       "0                   BA S/E DEGAÑ 110KV [NO_MOSTRAR]  \n",
       "1                   BA S/E DEGAÑ 110KV [NO_MOSTRAR]  \n",
       "2                   BA S/E DEGAÑ 110KV [NO_MOSTRAR]  \n",
       "3                   BA S/E DEGAÑ 110KV [NO_MOSTRAR]  \n",
       "4                   BA S/E DEGAÑ 110KV [NO_MOSTRAR]  \n",
       "...                                             ...  \n",
       "95251  BA S/E TAP OFF OESTE 220KV BP1 [EN_REVISION]  \n",
       "95252  BA S/E TAP OFF OESTE 220KV BP1 [EN_REVISION]  \n",
       "95253  BA S/E TAP OFF OESTE 220KV BP1 [EN_REVISION]  \n",
       "95254  BA S/E TAP OFF OESTE 220KV BP1 [EN_REVISION]  \n",
       "95255  BA S/E TAP OFF OESTE 220KV BP1 [EN_REVISION]  \n",
       "\n",
       "[95256 rows x 7 columns]"
      ]
     },
     "execution_count": 224,
     "metadata": {},
     "output_type": "execute_result"
    }
   ],
   "source": [
    "cmg_real"
   ]
  },
  {
   "cell_type": "code",
   "execution_count": 225,
   "id": "03e37f14-ad37-4a25-8934-47ed136a23a5",
   "metadata": {},
   "outputs": [
    {
     "data": {
      "text/html": [
       "<div>\n",
       "<style scoped>\n",
       "    .dataframe tbody tr th:only-of-type {\n",
       "        vertical-align: middle;\n",
       "    }\n",
       "\n",
       "    .dataframe tbody tr th {\n",
       "        vertical-align: top;\n",
       "    }\n",
       "\n",
       "    .dataframe thead th {\n",
       "        text-align: right;\n",
       "    }\n",
       "</style>\n",
       "<table border=\"1\" class=\"dataframe\">\n",
       "  <thead>\n",
       "    <tr style=\"text-align: right;\">\n",
       "      <th></th>\n",
       "      <th>barra_mnemotecnico</th>\n",
       "      <th>barra_referencia_mnemotecnico</th>\n",
       "      <th>fecha</th>\n",
       "      <th>hora</th>\n",
       "      <th>costo_en_dolares</th>\n",
       "      <th>costo_en_pesos</th>\n",
       "      <th>nombre</th>\n",
       "    </tr>\n",
       "  </thead>\n",
       "  <tbody>\n",
       "    <tr>\n",
       "      <th>0</th>\n",
       "      <td>BA01G010SE006G010</td>\n",
       "      <td>BA02T002SE032T002</td>\n",
       "      <td>2022-05-01</td>\n",
       "      <td>1</td>\n",
       "      <td>83.27</td>\n",
       "      <td>71.32742</td>\n",
       "      <td>BA S/E CENTRAL QUELTEHUES 110KV BP1</td>\n",
       "    </tr>\n",
       "    <tr>\n",
       "      <th>1</th>\n",
       "      <td>BA01G010SE006G010</td>\n",
       "      <td>BA02T002SE032T002</td>\n",
       "      <td>2022-05-01</td>\n",
       "      <td>2</td>\n",
       "      <td>79.47</td>\n",
       "      <td>68.07241</td>\n",
       "      <td>BA S/E CENTRAL QUELTEHUES 110KV BP1</td>\n",
       "    </tr>\n",
       "    <tr>\n",
       "      <th>2</th>\n",
       "      <td>BA01G010SE006G010</td>\n",
       "      <td>BA02T002SE032T002</td>\n",
       "      <td>2022-05-01</td>\n",
       "      <td>3</td>\n",
       "      <td>79.20</td>\n",
       "      <td>67.84114</td>\n",
       "      <td>BA S/E CENTRAL QUELTEHUES 110KV BP1</td>\n",
       "    </tr>\n",
       "    <tr>\n",
       "      <th>3</th>\n",
       "      <td>BA01G010SE006G010</td>\n",
       "      <td>BA02T002SE032T002</td>\n",
       "      <td>2022-05-01</td>\n",
       "      <td>4</td>\n",
       "      <td>79.20</td>\n",
       "      <td>67.84114</td>\n",
       "      <td>BA S/E CENTRAL QUELTEHUES 110KV BP1</td>\n",
       "    </tr>\n",
       "    <tr>\n",
       "      <th>4</th>\n",
       "      <td>BA01G010SE006G010</td>\n",
       "      <td>BA02T002SE032T002</td>\n",
       "      <td>2022-05-01</td>\n",
       "      <td>5</td>\n",
       "      <td>73.62</td>\n",
       "      <td>63.06142</td>\n",
       "      <td>BA S/E CENTRAL QUELTEHUES 110KV BP1</td>\n",
       "    </tr>\n",
       "    <tr>\n",
       "      <th>...</th>\n",
       "      <td>...</td>\n",
       "      <td>...</td>\n",
       "      <td>...</td>\n",
       "      <td>...</td>\n",
       "      <td>...</td>\n",
       "      <td>...</td>\n",
       "      <td>...</td>\n",
       "    </tr>\n",
       "    <tr>\n",
       "      <th>924067</th>\n",
       "      <td>BA01G344SE063G010</td>\n",
       "      <td>BA02T002SE032T002</td>\n",
       "      <td>2022-06-21</td>\n",
       "      <td>20</td>\n",
       "      <td>445.57</td>\n",
       "      <td>390.16337</td>\n",
       "      <td>BA S/E TAP OFF OESTE 220KV BP1 [EN_REVISION]</td>\n",
       "    </tr>\n",
       "    <tr>\n",
       "      <th>924068</th>\n",
       "      <td>BA01G344SE063G010</td>\n",
       "      <td>BA02T002SE032T002</td>\n",
       "      <td>2022-06-21</td>\n",
       "      <td>21</td>\n",
       "      <td>439.26</td>\n",
       "      <td>384.63802</td>\n",
       "      <td>BA S/E TAP OFF OESTE 220KV BP1 [EN_REVISION]</td>\n",
       "    </tr>\n",
       "    <tr>\n",
       "      <th>924069</th>\n",
       "      <td>BA01G344SE063G010</td>\n",
       "      <td>BA02T002SE032T002</td>\n",
       "      <td>2022-06-21</td>\n",
       "      <td>22</td>\n",
       "      <td>426.81</td>\n",
       "      <td>373.73618</td>\n",
       "      <td>BA S/E TAP OFF OESTE 220KV BP1 [EN_REVISION]</td>\n",
       "    </tr>\n",
       "    <tr>\n",
       "      <th>924070</th>\n",
       "      <td>BA01G344SE063G010</td>\n",
       "      <td>BA02T002SE032T002</td>\n",
       "      <td>2022-06-21</td>\n",
       "      <td>23</td>\n",
       "      <td>378.17</td>\n",
       "      <td>331.14456</td>\n",
       "      <td>BA S/E TAP OFF OESTE 220KV BP1 [EN_REVISION]</td>\n",
       "    </tr>\n",
       "    <tr>\n",
       "      <th>924071</th>\n",
       "      <td>BA01G344SE063G010</td>\n",
       "      <td>BA02T002SE032T002</td>\n",
       "      <td>2022-06-21</td>\n",
       "      <td>24</td>\n",
       "      <td>284.41</td>\n",
       "      <td>249.04362</td>\n",
       "      <td>BA S/E TAP OFF OESTE 220KV BP1 [EN_REVISION]</td>\n",
       "    </tr>\n",
       "  </tbody>\n",
       "</table>\n",
       "<p>924072 rows × 7 columns</p>\n",
       "</div>"
      ],
      "text/plain": [
       "       barra_mnemotecnico barra_referencia_mnemotecnico       fecha  hora  \\\n",
       "0       BA01G010SE006G010             BA02T002SE032T002  2022-05-01     1   \n",
       "1       BA01G010SE006G010             BA02T002SE032T002  2022-05-01     2   \n",
       "2       BA01G010SE006G010             BA02T002SE032T002  2022-05-01     3   \n",
       "3       BA01G010SE006G010             BA02T002SE032T002  2022-05-01     4   \n",
       "4       BA01G010SE006G010             BA02T002SE032T002  2022-05-01     5   \n",
       "...                   ...                           ...         ...   ...   \n",
       "924067  BA01G344SE063G010             BA02T002SE032T002  2022-06-21    20   \n",
       "924068  BA01G344SE063G010             BA02T002SE032T002  2022-06-21    21   \n",
       "924069  BA01G344SE063G010             BA02T002SE032T002  2022-06-21    22   \n",
       "924070  BA01G344SE063G010             BA02T002SE032T002  2022-06-21    23   \n",
       "924071  BA01G344SE063G010             BA02T002SE032T002  2022-06-21    24   \n",
       "\n",
       "        costo_en_dolares  costo_en_pesos  \\\n",
       "0                  83.27        71.32742   \n",
       "1                  79.47        68.07241   \n",
       "2                  79.20        67.84114   \n",
       "3                  79.20        67.84114   \n",
       "4                  73.62        63.06142   \n",
       "...                  ...             ...   \n",
       "924067            445.57       390.16337   \n",
       "924068            439.26       384.63802   \n",
       "924069            426.81       373.73618   \n",
       "924070            378.17       331.14456   \n",
       "924071            284.41       249.04362   \n",
       "\n",
       "                                              nombre  \n",
       "0                BA S/E CENTRAL QUELTEHUES 110KV BP1  \n",
       "1                BA S/E CENTRAL QUELTEHUES 110KV BP1  \n",
       "2                BA S/E CENTRAL QUELTEHUES 110KV BP1  \n",
       "3                BA S/E CENTRAL QUELTEHUES 110KV BP1  \n",
       "4                BA S/E CENTRAL QUELTEHUES 110KV BP1  \n",
       "...                                              ...  \n",
       "924067  BA S/E TAP OFF OESTE 220KV BP1 [EN_REVISION]  \n",
       "924068  BA S/E TAP OFF OESTE 220KV BP1 [EN_REVISION]  \n",
       "924069  BA S/E TAP OFF OESTE 220KV BP1 [EN_REVISION]  \n",
       "924070  BA S/E TAP OFF OESTE 220KV BP1 [EN_REVISION]  \n",
       "924071  BA S/E TAP OFF OESTE 220KV BP1 [EN_REVISION]  \n",
       "\n",
       "[924072 rows x 7 columns]"
      ]
     },
     "execution_count": 225,
     "metadata": {},
     "output_type": "execute_result"
    }
   ],
   "source": [
    "# JUNTAR cmg_real CON cmg_real_mes_previo\n",
    "frames_cmg = [cmg_real_mes_previo, cmg_real]\n",
    "result_cmg = pd.concat(frames_cmg, axis = 0)\n",
    "result_cmg.reset_index(drop=True, inplace=True)\n",
    "result_cmg"
   ]
  },
  {
   "cell_type": "code",
   "execution_count": 226,
   "id": "194e49d8-cea3-4cb3-871a-c431fb7adecf",
   "metadata": {},
   "outputs": [
    {
     "data": {
      "text/html": [
       "<div>\n",
       "<style scoped>\n",
       "    .dataframe tbody tr th:only-of-type {\n",
       "        vertical-align: middle;\n",
       "    }\n",
       "\n",
       "    .dataframe tbody tr th {\n",
       "        vertical-align: top;\n",
       "    }\n",
       "\n",
       "    .dataframe thead th {\n",
       "        text-align: right;\n",
       "    }\n",
       "</style>\n",
       "<table border=\"1\" class=\"dataframe\">\n",
       "  <thead>\n",
       "    <tr style=\"text-align: right;\">\n",
       "      <th></th>\n",
       "      <th>barra_mnemotecnico</th>\n",
       "      <th>barra_referencia_mnemotecnico</th>\n",
       "      <th>fecha</th>\n",
       "      <th>hora</th>\n",
       "      <th>costo_en_dolares</th>\n",
       "      <th>costo_en_pesos</th>\n",
       "      <th>nombre</th>\n",
       "    </tr>\n",
       "  </thead>\n",
       "  <tbody>\n",
       "    <tr>\n",
       "      <th>924067</th>\n",
       "      <td>BA01G344SE063G010</td>\n",
       "      <td>BA02T002SE032T002</td>\n",
       "      <td>2022-06-21</td>\n",
       "      <td>20</td>\n",
       "      <td>445.57</td>\n",
       "      <td>390.16337</td>\n",
       "      <td>BA S/E TAP OFF OESTE 220KV BP1 [EN_REVISION]</td>\n",
       "    </tr>\n",
       "    <tr>\n",
       "      <th>924068</th>\n",
       "      <td>BA01G344SE063G010</td>\n",
       "      <td>BA02T002SE032T002</td>\n",
       "      <td>2022-06-21</td>\n",
       "      <td>21</td>\n",
       "      <td>439.26</td>\n",
       "      <td>384.63802</td>\n",
       "      <td>BA S/E TAP OFF OESTE 220KV BP1 [EN_REVISION]</td>\n",
       "    </tr>\n",
       "    <tr>\n",
       "      <th>924069</th>\n",
       "      <td>BA01G344SE063G010</td>\n",
       "      <td>BA02T002SE032T002</td>\n",
       "      <td>2022-06-21</td>\n",
       "      <td>22</td>\n",
       "      <td>426.81</td>\n",
       "      <td>373.73618</td>\n",
       "      <td>BA S/E TAP OFF OESTE 220KV BP1 [EN_REVISION]</td>\n",
       "    </tr>\n",
       "    <tr>\n",
       "      <th>924070</th>\n",
       "      <td>BA01G344SE063G010</td>\n",
       "      <td>BA02T002SE032T002</td>\n",
       "      <td>2022-06-21</td>\n",
       "      <td>23</td>\n",
       "      <td>378.17</td>\n",
       "      <td>331.14456</td>\n",
       "      <td>BA S/E TAP OFF OESTE 220KV BP1 [EN_REVISION]</td>\n",
       "    </tr>\n",
       "    <tr>\n",
       "      <th>924071</th>\n",
       "      <td>BA01G344SE063G010</td>\n",
       "      <td>BA02T002SE032T002</td>\n",
       "      <td>2022-06-21</td>\n",
       "      <td>0</td>\n",
       "      <td>284.41</td>\n",
       "      <td>249.04362</td>\n",
       "      <td>BA S/E TAP OFF OESTE 220KV BP1 [EN_REVISION]</td>\n",
       "    </tr>\n",
       "  </tbody>\n",
       "</table>\n",
       "</div>"
      ],
      "text/plain": [
       "       barra_mnemotecnico barra_referencia_mnemotecnico      fecha  hora  \\\n",
       "924067  BA01G344SE063G010             BA02T002SE032T002 2022-06-21    20   \n",
       "924068  BA01G344SE063G010             BA02T002SE032T002 2022-06-21    21   \n",
       "924069  BA01G344SE063G010             BA02T002SE032T002 2022-06-21    22   \n",
       "924070  BA01G344SE063G010             BA02T002SE032T002 2022-06-21    23   \n",
       "924071  BA01G344SE063G010             BA02T002SE032T002 2022-06-21     0   \n",
       "\n",
       "        costo_en_dolares  costo_en_pesos  \\\n",
       "924067            445.57       390.16337   \n",
       "924068            439.26       384.63802   \n",
       "924069            426.81       373.73618   \n",
       "924070            378.17       331.14456   \n",
       "924071            284.41       249.04362   \n",
       "\n",
       "                                              nombre  \n",
       "924067  BA S/E TAP OFF OESTE 220KV BP1 [EN_REVISION]  \n",
       "924068  BA S/E TAP OFF OESTE 220KV BP1 [EN_REVISION]  \n",
       "924069  BA S/E TAP OFF OESTE 220KV BP1 [EN_REVISION]  \n",
       "924070  BA S/E TAP OFF OESTE 220KV BP1 [EN_REVISION]  \n",
       "924071  BA S/E TAP OFF OESTE 220KV BP1 [EN_REVISION]  "
      ]
     },
     "execution_count": 226,
     "metadata": {},
     "output_type": "execute_result"
    }
   ],
   "source": [
    "# format result_cmg\n",
    "result_cmg['fecha'] = result_cmg['fecha'].astype('datetime64[ns]')\n",
    "result_cmg['fecha'] = result_cmg['fecha'].astype('datetime64[ns]')\n",
    "result_cmg['hora'].replace(24, 0,inplace=True)\n",
    "#result_cmg['fecha_hora'] = result_cmg['fecha'].astype(str) + ' ' + result_cmg['hora'].astype(str)\n",
    "#result_cmg.drop(['costo_en_pesos'], axis = 1, inplace=True)\n",
    "result_cmg.tail()"
   ]
  },
  {
   "cell_type": "code",
   "execution_count": 227,
   "id": "cbf1f566-203f-4a5b-b091-354cdee01e2d",
   "metadata": {},
   "outputs": [
    {
     "name": "stderr",
     "output_type": "stream",
     "text": [
      "C:\\Users\\Alejandro\\AppData\\Local\\Temp\\ipykernel_21472\\4280495076.py:3: SettingWithCopyWarning: \n",
      "A value is trying to be set on a copy of a slice from a DataFrame\n",
      "\n",
      "See the caveats in the documentation: https://pandas.pydata.org/pandas-docs/stable/user_guide/indexing.html#returning-a-view-versus-a-copy\n",
      "  result_cmg['fecha'].iloc[i] = result_cmg['fecha'].iloc[i] + timedelta(days=1)\n"
     ]
    }
   ],
   "source": [
    "for i in range (len(result_cmg)):\n",
    "    if result_cmg['hora'].iloc[i] == 0:\n",
    "        result_cmg['fecha'].iloc[i] = result_cmg['fecha'].iloc[i] + timedelta(days=1)\n",
    "        "
   ]
  },
  {
   "cell_type": "code",
   "execution_count": 228,
   "id": "266bacf2-60b9-4439-b057-66e0c71402b2",
   "metadata": {},
   "outputs": [
    {
     "data": {
      "text/html": [
       "<div>\n",
       "<style scoped>\n",
       "    .dataframe tbody tr th:only-of-type {\n",
       "        vertical-align: middle;\n",
       "    }\n",
       "\n",
       "    .dataframe tbody tr th {\n",
       "        vertical-align: top;\n",
       "    }\n",
       "\n",
       "    .dataframe thead th {\n",
       "        text-align: right;\n",
       "    }\n",
       "</style>\n",
       "<table border=\"1\" class=\"dataframe\">\n",
       "  <thead>\n",
       "    <tr style=\"text-align: right;\">\n",
       "      <th></th>\n",
       "      <th>barra_mnemotecnico</th>\n",
       "      <th>barra_referencia_mnemotecnico</th>\n",
       "      <th>fecha</th>\n",
       "      <th>hora</th>\n",
       "      <th>costo_en_dolares</th>\n",
       "      <th>costo_en_pesos</th>\n",
       "      <th>nombre</th>\n",
       "    </tr>\n",
       "  </thead>\n",
       "  <tbody>\n",
       "    <tr>\n",
       "      <th>924067</th>\n",
       "      <td>BA01G344SE063G010</td>\n",
       "      <td>BA02T002SE032T002</td>\n",
       "      <td>2022-06-21 20:00:00</td>\n",
       "      <td>20:00:00</td>\n",
       "      <td>445.57</td>\n",
       "      <td>390.16337</td>\n",
       "      <td>BA S/E TAP OFF OESTE 220KV BP1 [EN_REVISION]</td>\n",
       "    </tr>\n",
       "    <tr>\n",
       "      <th>924068</th>\n",
       "      <td>BA01G344SE063G010</td>\n",
       "      <td>BA02T002SE032T002</td>\n",
       "      <td>2022-06-21 21:00:00</td>\n",
       "      <td>21:00:00</td>\n",
       "      <td>439.26</td>\n",
       "      <td>384.63802</td>\n",
       "      <td>BA S/E TAP OFF OESTE 220KV BP1 [EN_REVISION]</td>\n",
       "    </tr>\n",
       "    <tr>\n",
       "      <th>924069</th>\n",
       "      <td>BA01G344SE063G010</td>\n",
       "      <td>BA02T002SE032T002</td>\n",
       "      <td>2022-06-21 22:00:00</td>\n",
       "      <td>22:00:00</td>\n",
       "      <td>426.81</td>\n",
       "      <td>373.73618</td>\n",
       "      <td>BA S/E TAP OFF OESTE 220KV BP1 [EN_REVISION]</td>\n",
       "    </tr>\n",
       "    <tr>\n",
       "      <th>924070</th>\n",
       "      <td>BA01G344SE063G010</td>\n",
       "      <td>BA02T002SE032T002</td>\n",
       "      <td>2022-06-21 23:00:00</td>\n",
       "      <td>23:00:00</td>\n",
       "      <td>378.17</td>\n",
       "      <td>331.14456</td>\n",
       "      <td>BA S/E TAP OFF OESTE 220KV BP1 [EN_REVISION]</td>\n",
       "    </tr>\n",
       "    <tr>\n",
       "      <th>924071</th>\n",
       "      <td>BA01G344SE063G010</td>\n",
       "      <td>BA02T002SE032T002</td>\n",
       "      <td>2022-06-22 00:00:00</td>\n",
       "      <td>00:00:00</td>\n",
       "      <td>284.41</td>\n",
       "      <td>249.04362</td>\n",
       "      <td>BA S/E TAP OFF OESTE 220KV BP1 [EN_REVISION]</td>\n",
       "    </tr>\n",
       "  </tbody>\n",
       "</table>\n",
       "</div>"
      ],
      "text/plain": [
       "       barra_mnemotecnico barra_referencia_mnemotecnico               fecha  \\\n",
       "924067  BA01G344SE063G010             BA02T002SE032T002 2022-06-21 20:00:00   \n",
       "924068  BA01G344SE063G010             BA02T002SE032T002 2022-06-21 21:00:00   \n",
       "924069  BA01G344SE063G010             BA02T002SE032T002 2022-06-21 22:00:00   \n",
       "924070  BA01G344SE063G010             BA02T002SE032T002 2022-06-21 23:00:00   \n",
       "924071  BA01G344SE063G010             BA02T002SE032T002 2022-06-22 00:00:00   \n",
       "\n",
       "            hora  costo_en_dolares  costo_en_pesos  \\\n",
       "924067  20:00:00            445.57       390.16337   \n",
       "924068  21:00:00            439.26       384.63802   \n",
       "924069  22:00:00            426.81       373.73618   \n",
       "924070  23:00:00            378.17       331.14456   \n",
       "924071  00:00:00            284.41       249.04362   \n",
       "\n",
       "                                              nombre  \n",
       "924067  BA S/E TAP OFF OESTE 220KV BP1 [EN_REVISION]  \n",
       "924068  BA S/E TAP OFF OESTE 220KV BP1 [EN_REVISION]  \n",
       "924069  BA S/E TAP OFF OESTE 220KV BP1 [EN_REVISION]  \n",
       "924070  BA S/E TAP OFF OESTE 220KV BP1 [EN_REVISION]  \n",
       "924071  BA S/E TAP OFF OESTE 220KV BP1 [EN_REVISION]  "
      ]
     },
     "execution_count": 228,
     "metadata": {},
     "output_type": "execute_result"
    }
   ],
   "source": [
    "result_cmg['hora'] = pd.to_timedelta(result_cmg.hora, unit='h')\n",
    "result_cmg['hora'] = result_cmg['hora'].astype(str)\n",
    "result_cmg['hora'] = result_cmg['hora'].str[-8:]\n",
    "result_cmg['fecha'] = result_cmg['fecha'].astype(str) + ' ' + result_cmg['hora']\n",
    "result_cmg['fecha'] = pd.to_datetime(result_cmg['fecha'], format='%Y%m%d %H:%M:%S')\n",
    "result_cmg.tail()"
   ]
  },
  {
   "cell_type": "markdown",
   "id": "c91867c9-f103-40c2-821a-02238804b206",
   "metadata": {},
   "source": [
    "## Read CMg Reales BD"
   ]
  },
  {
   "cell_type": "code",
   "execution_count": 2,
   "id": "15cf6f03-019e-4927-8d6b-1abd144bc0a7",
   "metadata": {},
   "outputs": [],
   "source": [
    "dbuser = 'aaylwin'\n",
    "pwd = 'WYpbrRE2yWwYBC'\n",
    "server_ip = '127.0.0.1:3310'\n",
    "port = '3310'\n",
    "db_instance = 'gestion_integral'"
   ]
  },
  {
   "cell_type": "code",
   "execution_count": 3,
   "id": "840d2112-cf8e-4751-b26e-7602069dd9e7",
   "metadata": {},
   "outputs": [],
   "source": [
    "import mysql.connector\n",
    "from mysql.connector import Error\n",
    "from sqlalchemy import create_engine"
   ]
  },
  {
   "cell_type": "code",
   "execution_count": 4,
   "id": "e006a719-f0d9-4fc9-a41d-fa8cc9e8a115",
   "metadata": {},
   "outputs": [],
   "source": [
    "engine = create_engine('mysql+pymysql://'+dbuser+':'+pwd+'@'+server_ip+'/'+db_instance, echo=False)\n",
    "conn = engine.connect()\n",
    "conn"
   ]
  },
  {
   "cell_type": "code",
   "execution_count": 6,
   "id": "e5e6de79-5fa9-4510-ad5b-8bd9ebbfb17d",
   "metadata": {},
   "outputs": [
    {
     "data": {
      "text/html": [
       "<div>\n",
       "<style scoped>\n",
       "    .dataframe tbody tr th:only-of-type {\n",
       "        vertical-align: middle;\n",
       "    }\n",
       "\n",
       "    .dataframe tbody tr th {\n",
       "        vertical-align: top;\n",
       "    }\n",
       "\n",
       "    .dataframe thead th {\n",
       "        text-align: right;\n",
       "    }\n",
       "</style>\n",
       "<table border=\"1\" class=\"dataframe\">\n",
       "  <thead>\n",
       "    <tr style=\"text-align: right;\">\n",
       "      <th></th>\n",
       "      <th>barra_mnemotecnico</th>\n",
       "      <th>barra_referencia_mnemotecnico</th>\n",
       "      <th>fecha</th>\n",
       "      <th>costo</th>\n",
       "      <th>nombre</th>\n",
       "    </tr>\n",
       "  </thead>\n",
       "  <tbody>\n",
       "    <tr>\n",
       "      <th>999</th>\n",
       "      <td>BA05T002SE002T002</td>\n",
       "      <td>BA02T002SE032T002</td>\n",
       "      <td>2022-06-28 18:00:00</td>\n",
       "      <td>397.19</td>\n",
       "      <td>BA S/E ALTO JAHUEL 500KV BPA</td>\n",
       "    </tr>\n",
       "    <tr>\n",
       "      <th>968</th>\n",
       "      <td>BA46G216SE021G216</td>\n",
       "      <td>BA02T002SE032T002</td>\n",
       "      <td>2022-06-28 18:00:00</td>\n",
       "      <td>447.56</td>\n",
       "      <td>BA S/E ANTOFAGASTA 110KV BP1</td>\n",
       "    </tr>\n",
       "    <tr>\n",
       "      <th>967</th>\n",
       "      <td>BA46G216SE043G216</td>\n",
       "      <td>BA02T002SE032T002</td>\n",
       "      <td>2022-06-28 18:00:00</td>\n",
       "      <td>443.36</td>\n",
       "      <td>BA S/E CENTRAL TOCOPILLA 110KV BP1-2</td>\n",
       "    </tr>\n",
       "    <tr>\n",
       "      <th>966</th>\n",
       "      <td>BA46L141SE071L141</td>\n",
       "      <td>BA02T002SE032T002</td>\n",
       "      <td>2022-06-28 18:00:00</td>\n",
       "      <td>450.40</td>\n",
       "      <td>BA S/E EL TESORO 220KV BP</td>\n",
       "    </tr>\n",
       "    <tr>\n",
       "      <th>965</th>\n",
       "      <td>BA47L135SE089L135</td>\n",
       "      <td>BA02T002SE032T002</td>\n",
       "      <td>2022-06-28 18:00:00</td>\n",
       "      <td>452.37</td>\n",
       "      <td>BA S/E KM6 100KV BP1</td>\n",
       "    </tr>\n",
       "    <tr>\n",
       "      <th>...</th>\n",
       "      <td>...</td>\n",
       "      <td>...</td>\n",
       "      <td>...</td>\n",
       "      <td>...</td>\n",
       "      <td>...</td>\n",
       "    </tr>\n",
       "    <tr>\n",
       "      <th>122</th>\n",
       "      <td>BA01T030SE003T030</td>\n",
       "      <td>BA02T002SE032T002</td>\n",
       "      <td>2022-06-28 23:00:00</td>\n",
       "      <td>332.15</td>\n",
       "      <td>BA S/E CUMBRE 500KV BP1</td>\n",
       "    </tr>\n",
       "    <tr>\n",
       "      <th>121</th>\n",
       "      <td>BA01T031SE003T031</td>\n",
       "      <td>BA02T002SE032T002</td>\n",
       "      <td>2022-06-28 23:00:00</td>\n",
       "      <td>70.39</td>\n",
       "      <td>BA S/E SECCIONADORA RIO TOLTEN 220KV BP1</td>\n",
       "    </tr>\n",
       "    <tr>\n",
       "      <th>120</th>\n",
       "      <td>BA01T031SE105T031</td>\n",
       "      <td>BA02T002SE032T002</td>\n",
       "      <td>2022-06-28 23:00:00</td>\n",
       "      <td>353.75</td>\n",
       "      <td>BA S/E MARIA ELENA 220KV BP1</td>\n",
       "    </tr>\n",
       "    <tr>\n",
       "      <th>129</th>\n",
       "      <td>BA01T003SE032T003</td>\n",
       "      <td>BA02T002SE032T002</td>\n",
       "      <td>2022-06-28 23:00:00</td>\n",
       "      <td>67.48</td>\n",
       "      <td>BA S/E CHILOE 110KV BP1</td>\n",
       "    </tr>\n",
       "    <tr>\n",
       "      <th>0</th>\n",
       "      <td>BA99L117SE054L117</td>\n",
       "      <td>BA02T002SE032T002</td>\n",
       "      <td>2022-06-28 23:00:00</td>\n",
       "      <td>366.66</td>\n",
       "      <td>BA S/E COLLAHUASI 220KV BP1</td>\n",
       "    </tr>\n",
       "  </tbody>\n",
       "</table>\n",
       "<p>1000 rows × 5 columns</p>\n",
       "</div>"
      ],
      "text/plain": [
       "    barra_mnemotecnico barra_referencia_mnemotecnico               fecha  \\\n",
       "999  BA05T002SE002T002             BA02T002SE032T002 2022-06-28 18:00:00   \n",
       "968  BA46G216SE021G216             BA02T002SE032T002 2022-06-28 18:00:00   \n",
       "967  BA46G216SE043G216             BA02T002SE032T002 2022-06-28 18:00:00   \n",
       "966  BA46L141SE071L141             BA02T002SE032T002 2022-06-28 18:00:00   \n",
       "965  BA47L135SE089L135             BA02T002SE032T002 2022-06-28 18:00:00   \n",
       "..                 ...                           ...                 ...   \n",
       "122  BA01T030SE003T030             BA02T002SE032T002 2022-06-28 23:00:00   \n",
       "121  BA01T031SE003T031             BA02T002SE032T002 2022-06-28 23:00:00   \n",
       "120  BA01T031SE105T031             BA02T002SE032T002 2022-06-28 23:00:00   \n",
       "129  BA01T003SE032T003             BA02T002SE032T002 2022-06-28 23:00:00   \n",
       "0    BA99L117SE054L117             BA02T002SE032T002 2022-06-28 23:00:00   \n",
       "\n",
       "      costo                                    nombre  \n",
       "999  397.19              BA S/E ALTO JAHUEL 500KV BPA  \n",
       "968  447.56              BA S/E ANTOFAGASTA 110KV BP1  \n",
       "967  443.36      BA S/E CENTRAL TOCOPILLA 110KV BP1-2  \n",
       "966  450.40                 BA S/E EL TESORO 220KV BP  \n",
       "965  452.37                      BA S/E KM6 100KV BP1  \n",
       "..      ...                                       ...  \n",
       "122  332.15                   BA S/E CUMBRE 500KV BP1  \n",
       "121   70.39  BA S/E SECCIONADORA RIO TOLTEN 220KV BP1  \n",
       "120  353.75              BA S/E MARIA ELENA 220KV BP1  \n",
       "129   67.48                   BA S/E CHILOE 110KV BP1  \n",
       "0    366.66               BA S/E COLLAHUASI 220KV BP1  \n",
       "\n",
       "[1000 rows x 5 columns]"
      ]
     },
     "execution_count": 6,
     "metadata": {},
     "output_type": "execute_result"
    }
   ],
   "source": [
    "# cmg real \n",
    "#table_name = 'gi_cmg_real'\n",
    "df_cmg_real = pd.read_sql('SELECT * FROM gi_cmg_real ORDER BY fecha DESC LIMIT 1000;', con=conn)\n",
    "df_cmg_real = df_cmg_real.sort_values(by=['fecha'])\n",
    "df_cmg_real"
   ]
  },
  {
   "cell_type": "code",
   "execution_count": 7,
   "id": "57ac7c1a-a503-496d-8588-f92d7cda3175",
   "metadata": {},
   "outputs": [
    {
     "data": {
      "text/plain": [
       "0   2022-06-28 23:00:00\n",
       "Name: fecha, dtype: datetime64[ns]"
      ]
     },
     "execution_count": 7,
     "metadata": {},
     "output_type": "execute_result"
    }
   ],
   "source": [
    "# agarrar ultima fecha\n",
    "df_cmg_real['fecha'].tail(1)"
   ]
  },
  {
   "cell_type": "code",
   "execution_count": 238,
   "id": "c4751506-1f0a-416a-a322-6a798cc302ef",
   "metadata": {},
   "outputs": [
    {
     "data": {
      "text/plain": [
       "barra_mnemotecnico                       object\n",
       "barra_referencia_mnemotecnico            object\n",
       "fecha                            datetime64[ns]\n",
       "costo                                   float64\n",
       "nombre                                   object\n",
       "dtype: object"
      ]
     },
     "execution_count": 238,
     "metadata": {},
     "output_type": "execute_result"
    }
   ],
   "source": [
    "df_cmg_real.dtypes\n"
   ]
  },
  {
   "cell_type": "code",
   "execution_count": 8,
   "id": "6c7e79fb-23fa-4656-b695-00b720d26428",
   "metadata": {},
   "outputs": [
    {
     "data": {
      "text/plain": [
       "Timestamp('2022-06-28 23:00:00')"
      ]
     },
     "execution_count": 8,
     "metadata": {},
     "output_type": "execute_result"
    }
   ],
   "source": [
    "# ultima fecha bd\n",
    "end_bd = str(df_cmg_real['fecha'].tail(1).iloc[0])\n",
    "end_bd = pd.to_datetime(end_bd, format='%Y%m%d %H:%M:%S')\n",
    "end_bd"
   ]
  },
  {
   "cell_type": "code",
   "execution_count": 10,
   "id": "71143f1d-89db-4fea-a80f-bc3aaaf12071",
   "metadata": {},
   "outputs": [
    {
     "data": {
      "text/plain": [
       "Timestamp('2022-06-27 23:00:00')"
      ]
     },
     "execution_count": 10,
     "metadata": {},
     "output_type": "execute_result"
    }
   ],
   "source": [
    "# primer bloque despues de ultimo registro \n",
    "start_append = end_bd - timedelta(days=1)\n",
    "start_append"
   ]
  },
  {
   "cell_type": "code",
   "execution_count": 44,
   "id": "468ae888-f372-4938-ad38-5acafdcad83e",
   "metadata": {},
   "outputs": [
    {
     "data": {
      "text/plain": [
       "'2022-06-27 23:00:00'"
      ]
     },
     "execution_count": 44,
     "metadata": {},
     "output_type": "execute_result"
    }
   ],
   "source": [
    "start_append_string = start_append.strftime(\"%Y-%m-%d %H:%M:%S\")\n",
    "start_append_string"
   ]
  },
  {
   "cell_type": "code",
   "execution_count": 45,
   "id": "b3cb4613-d4a7-4d6f-a1c3-74cbcd874eb2",
   "metadata": {},
   "outputs": [
    {
     "data": {
      "text/html": [
       "<div>\n",
       "<style scoped>\n",
       "    .dataframe tbody tr th:only-of-type {\n",
       "        vertical-align: middle;\n",
       "    }\n",
       "\n",
       "    .dataframe tbody tr th {\n",
       "        vertical-align: top;\n",
       "    }\n",
       "\n",
       "    .dataframe thead th {\n",
       "        text-align: right;\n",
       "    }\n",
       "</style>\n",
       "<table border=\"1\" class=\"dataframe\">\n",
       "  <thead>\n",
       "    <tr style=\"text-align: right;\">\n",
       "      <th></th>\n",
       "      <th>barra_mnemotecnico</th>\n",
       "      <th>barra_referencia_mnemotecnico</th>\n",
       "      <th>fecha</th>\n",
       "      <th>costo</th>\n",
       "      <th>nombre</th>\n",
       "    </tr>\n",
       "  </thead>\n",
       "  <tbody>\n",
       "    <tr>\n",
       "      <th>0</th>\n",
       "      <td>BA01G004SE017G004</td>\n",
       "      <td>BA02T002SE032T002</td>\n",
       "      <td>2022-06-28 00:00:00</td>\n",
       "      <td>358.00</td>\n",
       "      <td>BA S/E SANTA MARIA 220KV BP1</td>\n",
       "    </tr>\n",
       "    <tr>\n",
       "      <th>1</th>\n",
       "      <td>BA01G004SE036G004</td>\n",
       "      <td>BA02T002SE032T002</td>\n",
       "      <td>2022-06-28 00:00:00</td>\n",
       "      <td>345.94</td>\n",
       "      <td>BA S/E GIS ANGOSTURA 220KV</td>\n",
       "    </tr>\n",
       "    <tr>\n",
       "      <th>2</th>\n",
       "      <td>BA01G010SE008G010</td>\n",
       "      <td>BA02T002SE032T002</td>\n",
       "      <td>2022-06-28 00:00:00</td>\n",
       "      <td>360.67</td>\n",
       "      <td>BA S/E VENTANAS 110KV BP1-1</td>\n",
       "    </tr>\n",
       "    <tr>\n",
       "      <th>3</th>\n",
       "      <td>BA01G018SE002G018</td>\n",
       "      <td>BA02T002SE032T002</td>\n",
       "      <td>2022-06-28 00:00:00</td>\n",
       "      <td>362.19</td>\n",
       "      <td>BA S/E MAPAL 154KV BP [NO_MOSTRAR]</td>\n",
       "    </tr>\n",
       "    <tr>\n",
       "      <th>4</th>\n",
       "      <td>BA01G021SE003G021</td>\n",
       "      <td>BA02T002SE032T002</td>\n",
       "      <td>2022-06-28 00:00:00</td>\n",
       "      <td>360.63</td>\n",
       "      <td>BA S/E CENTRAL BOCAMINA I 154KV BP1</td>\n",
       "    </tr>\n",
       "    <tr>\n",
       "      <th>...</th>\n",
       "      <td>...</td>\n",
       "      <td>...</td>\n",
       "      <td>...</td>\n",
       "      <td>...</td>\n",
       "      <td>...</td>\n",
       "    </tr>\n",
       "    <tr>\n",
       "      <th>4531</th>\n",
       "      <td>BA91L135SE052L135</td>\n",
       "      <td>BA02T002SE032T002</td>\n",
       "      <td>2022-06-28 23:00:00</td>\n",
       "      <td>358.52</td>\n",
       "      <td>BA S/E CHUQUICAMATA 220KV BP1</td>\n",
       "    </tr>\n",
       "    <tr>\n",
       "      <th>4532</th>\n",
       "      <td>BA93G235SE106G216</td>\n",
       "      <td>BA02T002SE032T002</td>\n",
       "      <td>2022-06-28 23:00:00</td>\n",
       "      <td>346.78</td>\n",
       "      <td>BA S/E MEJILLONES 110KV BP</td>\n",
       "    </tr>\n",
       "    <tr>\n",
       "      <th>4533</th>\n",
       "      <td>BA94G216SE031G216</td>\n",
       "      <td>BA02T002SE032T002</td>\n",
       "      <td>2022-06-28 23:00:00</td>\n",
       "      <td>367.58</td>\n",
       "      <td>BA S/E CENTRAL DIESEL ARICA 66KV BP1</td>\n",
       "    </tr>\n",
       "    <tr>\n",
       "      <th>4534</th>\n",
       "      <td>BA97G216SE106G216</td>\n",
       "      <td>BA02T002SE032T002</td>\n",
       "      <td>2022-06-28 23:00:00</td>\n",
       "      <td>346.78</td>\n",
       "      <td>BA S/E MEJILLONES 220KV BP</td>\n",
       "    </tr>\n",
       "    <tr>\n",
       "      <th>4535</th>\n",
       "      <td>BA99L117SE054L117</td>\n",
       "      <td>BA02T002SE032T002</td>\n",
       "      <td>2022-06-28 23:00:00</td>\n",
       "      <td>366.66</td>\n",
       "      <td>BA S/E COLLAHUASI 220KV BP1</td>\n",
       "    </tr>\n",
       "  </tbody>\n",
       "</table>\n",
       "<p>4536 rows × 5 columns</p>\n",
       "</div>"
      ],
      "text/plain": [
       "     barra_mnemotecnico barra_referencia_mnemotecnico               fecha  \\\n",
       "0     BA01G004SE017G004             BA02T002SE032T002 2022-06-28 00:00:00   \n",
       "1     BA01G004SE036G004             BA02T002SE032T002 2022-06-28 00:00:00   \n",
       "2     BA01G010SE008G010             BA02T002SE032T002 2022-06-28 00:00:00   \n",
       "3     BA01G018SE002G018             BA02T002SE032T002 2022-06-28 00:00:00   \n",
       "4     BA01G021SE003G021             BA02T002SE032T002 2022-06-28 00:00:00   \n",
       "...                 ...                           ...                 ...   \n",
       "4531  BA91L135SE052L135             BA02T002SE032T002 2022-06-28 23:00:00   \n",
       "4532  BA93G235SE106G216             BA02T002SE032T002 2022-06-28 23:00:00   \n",
       "4533  BA94G216SE031G216             BA02T002SE032T002 2022-06-28 23:00:00   \n",
       "4534  BA97G216SE106G216             BA02T002SE032T002 2022-06-28 23:00:00   \n",
       "4535  BA99L117SE054L117             BA02T002SE032T002 2022-06-28 23:00:00   \n",
       "\n",
       "       costo                                nombre  \n",
       "0     358.00          BA S/E SANTA MARIA 220KV BP1  \n",
       "1     345.94            BA S/E GIS ANGOSTURA 220KV  \n",
       "2     360.67           BA S/E VENTANAS 110KV BP1-1  \n",
       "3     362.19    BA S/E MAPAL 154KV BP [NO_MOSTRAR]  \n",
       "4     360.63   BA S/E CENTRAL BOCAMINA I 154KV BP1  \n",
       "...      ...                                   ...  \n",
       "4531  358.52         BA S/E CHUQUICAMATA 220KV BP1  \n",
       "4532  346.78            BA S/E MEJILLONES 110KV BP  \n",
       "4533  367.58  BA S/E CENTRAL DIESEL ARICA 66KV BP1  \n",
       "4534  346.78            BA S/E MEJILLONES 220KV BP  \n",
       "4535  366.66           BA S/E COLLAHUASI 220KV BP1  \n",
       "\n",
       "[4536 rows x 5 columns]"
      ]
     },
     "execution_count": 45,
     "metadata": {},
     "output_type": "execute_result"
    }
   ],
   "source": [
    "# crear df a repetir (ultimo dia)\n",
    "query = \"SELECT * FROM gi_cmg_real WHERE fecha  > \" + \"'\" + start_append_string + \"'\"\n",
    "\n",
    "df_cmg_loop = pd.read_sql(query, con=conn)\n",
    "\n",
    "df_cmg_loop"
   ]
  },
  {
   "cell_type": "code",
   "execution_count": 48,
   "id": "ba184840-c73f-45b4-9385-fcf5e8b8d32a",
   "metadata": {},
   "outputs": [
    {
     "data": {
      "text/plain": [
       "Timestamp('2022-06-28 23:00:00')"
      ]
     },
     "execution_count": 48,
     "metadata": {},
     "output_type": "execute_result"
    }
   ],
   "source": [
    "end_bd"
   ]
  },
  {
   "cell_type": "code",
   "execution_count": 50,
   "id": "7d47ee1b-198c-4fb4-8918-9f6060fe717c",
   "metadata": {},
   "outputs": [
    {
     "data": {
      "text/plain": [
       "'2022-06-28'"
      ]
     },
     "execution_count": 50,
     "metadata": {},
     "output_type": "execute_result"
    }
   ],
   "source": [
    "end_bd.strftime(\"%Y-%m-%d\")"
   ]
  },
  {
   "cell_type": "code",
   "execution_count": 52,
   "id": "db286b48-eb61-4cb3-a8fe-05e5ddd5b017",
   "metadata": {},
   "outputs": [
    {
     "data": {
      "text/plain": [
       "1"
      ]
     },
     "execution_count": 52,
     "metadata": {},
     "output_type": "execute_result"
    }
   ],
   "source": [
    "#calcular dias entre end_bd y dia ayer\n",
    "cmg_real_last = end_bd.strftime(\"%Y-%m-%d\")\n",
    "ayer = str(date.today()-timedelta(days=1))\n",
    "cmg_real_last, ayer\n",
    "# convert string to date object\n",
    "d1 = datetime.strptime(cmg_real_last, \"%Y-%m-%d\")\n",
    "d2 = datetime.strptime(ayer, \"%Y-%m-%d\")\n",
    "# difference between dates in timedelta = numero de loops\n",
    "delta = d2 - d1\n",
    "loops = delta.days\n",
    "loops"
   ]
  },
  {
   "cell_type": "code",
   "execution_count": 53,
   "id": "c2e7bbce-3357-471b-9e2a-535be29651fd",
   "metadata": {},
   "outputs": [
    {
     "data": {
      "text/plain": [
       "4536"
      ]
     },
     "execution_count": 53,
     "metadata": {},
     "output_type": "execute_result"
    }
   ],
   "source": [
    "len(df_cmg_loop)"
   ]
  },
  {
   "cell_type": "code",
   "execution_count": 55,
   "id": "12826111-5c0c-4879-a63f-23f52ce581ed",
   "metadata": {},
   "outputs": [],
   "source": [
    "df_loop = df_cmg_loop"
   ]
  },
  {
   "cell_type": "code",
   "execution_count": 56,
   "id": "607e9dd6-4d37-4307-971b-894cc948f194",
   "metadata": {},
   "outputs": [
    {
     "name": "stderr",
     "output_type": "stream",
     "text": [
      "C:\\Users\\Alejandro\\AppData\\Local\\Temp\\ipykernel_23456\\3525485353.py:5: SettingWithCopyWarning: \n",
      "A value is trying to be set on a copy of a slice from a DataFrame\n",
      "\n",
      "See the caveats in the documentation: https://pandas.pydata.org/pandas-docs/stable/user_guide/indexing.html#returning-a-view-versus-a-copy\n",
      "  df_loop['fecha'].iloc[i] = df_loop['fecha'].iloc[i] + timedelta(days=loops)\n"
     ]
    }
   ],
   "source": [
    "if loops > 0:\n",
    "    df = pd.DataFrame()\n",
    "    for x in range (loops):\n",
    "        for i in range (len(df_cmg_loop)):\n",
    "            df_loop['fecha'].iloc[i] = df_loop['fecha'].iloc[i] + timedelta(days=loops)\n",
    "            frames_df = [df,df_loop]\n",
    "            result_df = pd.concat(frames_df)\n",
    "        df = result_df\n",
    "else:\n",
    "    df = df_loop.head(0)"
   ]
  },
  {
   "cell_type": "code",
   "execution_count": 57,
   "id": "16ac9f23-7f7e-4db2-ae41-c3d6276072d0",
   "metadata": {},
   "outputs": [
    {
     "data": {
      "text/html": [
       "<div>\n",
       "<style scoped>\n",
       "    .dataframe tbody tr th:only-of-type {\n",
       "        vertical-align: middle;\n",
       "    }\n",
       "\n",
       "    .dataframe tbody tr th {\n",
       "        vertical-align: top;\n",
       "    }\n",
       "\n",
       "    .dataframe thead th {\n",
       "        text-align: right;\n",
       "    }\n",
       "</style>\n",
       "<table border=\"1\" class=\"dataframe\">\n",
       "  <thead>\n",
       "    <tr style=\"text-align: right;\">\n",
       "      <th></th>\n",
       "      <th>barra_mnemotecnico</th>\n",
       "      <th>barra_referencia_mnemotecnico</th>\n",
       "      <th>fecha</th>\n",
       "      <th>costo</th>\n",
       "      <th>nombre</th>\n",
       "    </tr>\n",
       "  </thead>\n",
       "  <tbody>\n",
       "    <tr>\n",
       "      <th>0</th>\n",
       "      <td>BA01G004SE017G004</td>\n",
       "      <td>BA02T002SE032T002</td>\n",
       "      <td>2022-06-29 00:00:00</td>\n",
       "      <td>358.00</td>\n",
       "      <td>BA S/E SANTA MARIA 220KV BP1</td>\n",
       "    </tr>\n",
       "    <tr>\n",
       "      <th>1</th>\n",
       "      <td>BA01G004SE036G004</td>\n",
       "      <td>BA02T002SE032T002</td>\n",
       "      <td>2022-06-29 00:00:00</td>\n",
       "      <td>345.94</td>\n",
       "      <td>BA S/E GIS ANGOSTURA 220KV</td>\n",
       "    </tr>\n",
       "    <tr>\n",
       "      <th>2</th>\n",
       "      <td>BA01G010SE008G010</td>\n",
       "      <td>BA02T002SE032T002</td>\n",
       "      <td>2022-06-29 00:00:00</td>\n",
       "      <td>360.67</td>\n",
       "      <td>BA S/E VENTANAS 110KV BP1-1</td>\n",
       "    </tr>\n",
       "    <tr>\n",
       "      <th>3</th>\n",
       "      <td>BA01G018SE002G018</td>\n",
       "      <td>BA02T002SE032T002</td>\n",
       "      <td>2022-06-29 00:00:00</td>\n",
       "      <td>362.19</td>\n",
       "      <td>BA S/E MAPAL 154KV BP [NO_MOSTRAR]</td>\n",
       "    </tr>\n",
       "    <tr>\n",
       "      <th>4</th>\n",
       "      <td>BA01G021SE003G021</td>\n",
       "      <td>BA02T002SE032T002</td>\n",
       "      <td>2022-06-29 00:00:00</td>\n",
       "      <td>360.63</td>\n",
       "      <td>BA S/E CENTRAL BOCAMINA I 154KV BP1</td>\n",
       "    </tr>\n",
       "    <tr>\n",
       "      <th>...</th>\n",
       "      <td>...</td>\n",
       "      <td>...</td>\n",
       "      <td>...</td>\n",
       "      <td>...</td>\n",
       "      <td>...</td>\n",
       "    </tr>\n",
       "    <tr>\n",
       "      <th>4531</th>\n",
       "      <td>BA91L135SE052L135</td>\n",
       "      <td>BA02T002SE032T002</td>\n",
       "      <td>2022-06-29 23:00:00</td>\n",
       "      <td>358.52</td>\n",
       "      <td>BA S/E CHUQUICAMATA 220KV BP1</td>\n",
       "    </tr>\n",
       "    <tr>\n",
       "      <th>4532</th>\n",
       "      <td>BA93G235SE106G216</td>\n",
       "      <td>BA02T002SE032T002</td>\n",
       "      <td>2022-06-29 23:00:00</td>\n",
       "      <td>346.78</td>\n",
       "      <td>BA S/E MEJILLONES 110KV BP</td>\n",
       "    </tr>\n",
       "    <tr>\n",
       "      <th>4533</th>\n",
       "      <td>BA94G216SE031G216</td>\n",
       "      <td>BA02T002SE032T002</td>\n",
       "      <td>2022-06-29 23:00:00</td>\n",
       "      <td>367.58</td>\n",
       "      <td>BA S/E CENTRAL DIESEL ARICA 66KV BP1</td>\n",
       "    </tr>\n",
       "    <tr>\n",
       "      <th>4534</th>\n",
       "      <td>BA97G216SE106G216</td>\n",
       "      <td>BA02T002SE032T002</td>\n",
       "      <td>2022-06-29 23:00:00</td>\n",
       "      <td>346.78</td>\n",
       "      <td>BA S/E MEJILLONES 220KV BP</td>\n",
       "    </tr>\n",
       "    <tr>\n",
       "      <th>4535</th>\n",
       "      <td>BA99L117SE054L117</td>\n",
       "      <td>BA02T002SE032T002</td>\n",
       "      <td>2022-06-29 23:00:00</td>\n",
       "      <td>366.66</td>\n",
       "      <td>BA S/E COLLAHUASI 220KV BP1</td>\n",
       "    </tr>\n",
       "  </tbody>\n",
       "</table>\n",
       "<p>4536 rows × 5 columns</p>\n",
       "</div>"
      ],
      "text/plain": [
       "     barra_mnemotecnico barra_referencia_mnemotecnico               fecha  \\\n",
       "0     BA01G004SE017G004             BA02T002SE032T002 2022-06-29 00:00:00   \n",
       "1     BA01G004SE036G004             BA02T002SE032T002 2022-06-29 00:00:00   \n",
       "2     BA01G010SE008G010             BA02T002SE032T002 2022-06-29 00:00:00   \n",
       "3     BA01G018SE002G018             BA02T002SE032T002 2022-06-29 00:00:00   \n",
       "4     BA01G021SE003G021             BA02T002SE032T002 2022-06-29 00:00:00   \n",
       "...                 ...                           ...                 ...   \n",
       "4531  BA91L135SE052L135             BA02T002SE032T002 2022-06-29 23:00:00   \n",
       "4532  BA93G235SE106G216             BA02T002SE032T002 2022-06-29 23:00:00   \n",
       "4533  BA94G216SE031G216             BA02T002SE032T002 2022-06-29 23:00:00   \n",
       "4534  BA97G216SE106G216             BA02T002SE032T002 2022-06-29 23:00:00   \n",
       "4535  BA99L117SE054L117             BA02T002SE032T002 2022-06-29 23:00:00   \n",
       "\n",
       "       costo                                nombre  \n",
       "0     358.00          BA S/E SANTA MARIA 220KV BP1  \n",
       "1     345.94            BA S/E GIS ANGOSTURA 220KV  \n",
       "2     360.67           BA S/E VENTANAS 110KV BP1-1  \n",
       "3     362.19    BA S/E MAPAL 154KV BP [NO_MOSTRAR]  \n",
       "4     360.63   BA S/E CENTRAL BOCAMINA I 154KV BP1  \n",
       "...      ...                                   ...  \n",
       "4531  358.52         BA S/E CHUQUICAMATA 220KV BP1  \n",
       "4532  346.78            BA S/E MEJILLONES 110KV BP  \n",
       "4533  367.58  BA S/E CENTRAL DIESEL ARICA 66KV BP1  \n",
       "4534  346.78            BA S/E MEJILLONES 220KV BP  \n",
       "4535  366.66           BA S/E COLLAHUASI 220KV BP1  \n",
       "\n",
       "[4536 rows x 5 columns]"
      ]
     },
     "execution_count": 57,
     "metadata": {},
     "output_type": "execute_result"
    }
   ],
   "source": [
    "df"
   ]
  },
  {
   "cell_type": "code",
   "execution_count": 58,
   "id": "8cf3a568-c6f6-46f7-a229-1bbd05b43aba",
   "metadata": {},
   "outputs": [
    {
     "data": {
      "text/plain": [
       "barra_mnemotecnico                       object\n",
       "barra_referencia_mnemotecnico            object\n",
       "fecha                            datetime64[ns]\n",
       "costo                                   float64\n",
       "nombre                                   object\n",
       "dtype: object"
      ]
     },
     "execution_count": 58,
     "metadata": {},
     "output_type": "execute_result"
    }
   ],
   "source": [
    "df.dtypes"
   ]
  },
  {
   "cell_type": "markdown",
   "id": "b344902a-e693-4d96-9921-bf444fa60672",
   "metadata": {},
   "source": [
    "df = pd.DataFrame()\n",
    "for x in range (loops):\n",
    "    for i in range (len(result_cmg_append)):\n",
    "        df_loop['fecha'].iloc[i] = df_loop['fecha'].iloc[i] + timedelta(days=loops)\n",
    "        frames_df = [df,df_loop]\n",
    "        result_df = pd.concat(frames_df)\n",
    "    df = result_df"
   ]
  },
  {
   "cell_type": "code",
   "execution_count": 59,
   "id": "a0ea210f-637b-423c-af04-91adb4ceb99b",
   "metadata": {},
   "outputs": [],
   "source": [
    "conn.close()"
   ]
  },
  {
   "cell_type": "markdown",
   "id": "c69fda4b-1ad0-41b8-b6af-a2b7f80a132c",
   "metadata": {
    "tags": []
   },
   "source": [
    "## Insert CMg provisionales"
   ]
  },
  {
   "cell_type": "code",
   "execution_count": 60,
   "id": "8e51d22a-568a-4e70-a8fb-83b8c896fd79",
   "metadata": {},
   "outputs": [],
   "source": [
    "dbuser = 'aaylwin'\n",
    "pwd = 'WYpbrRE2yWwYBC'\n",
    "server_ip = '127.0.0.1:3310'\n",
    "port = '3310'\n",
    "db_instance = 'gestion_integral_staging'"
   ]
  },
  {
   "cell_type": "code",
   "execution_count": 61,
   "id": "6bd179da-7287-4968-a5d7-96910ae27d89",
   "metadata": {},
   "outputs": [],
   "source": [
    "import mysql.connector \n",
    "import sqlalchemy\n",
    "from mysql.connector import Error\n",
    "from sqlalchemy import create_engine"
   ]
  },
  {
   "cell_type": "code",
   "execution_count": 62,
   "id": "f45da801-8f38-42a4-9ead-44311dd2cbf4",
   "metadata": {},
   "outputs": [],
   "source": [
    "engine = create_engine('mysql+pymysql://'+dbuser+':'+pwd+'@'+server_ip+'/'+db_instance, echo=False)\n",
    "conn = engine.connect()"
   ]
  },
  {
   "cell_type": "code",
   "execution_count": 63,
   "id": "600978cb-e0d8-47ca-8542-089b27eb6036",
   "metadata": {},
   "outputs": [
    {
     "data": {
      "text/plain": [
       "<sqlalchemy.engine.base.Connection at 0x1f24803c310>"
      ]
     },
     "execution_count": 63,
     "metadata": {},
     "output_type": "execute_result"
    }
   ],
   "source": [
    "conn"
   ]
  },
  {
   "cell_type": "code",
   "execution_count": 66,
   "id": "c6560523-6dff-42ff-99dc-aeaca79f14cd",
   "metadata": {},
   "outputs": [
    {
     "data": {
      "text/html": [
       "<div>\n",
       "<style scoped>\n",
       "    .dataframe tbody tr th:only-of-type {\n",
       "        vertical-align: middle;\n",
       "    }\n",
       "\n",
       "    .dataframe tbody tr th {\n",
       "        vertical-align: top;\n",
       "    }\n",
       "\n",
       "    .dataframe thead th {\n",
       "        text-align: right;\n",
       "    }\n",
       "</style>\n",
       "<table border=\"1\" class=\"dataframe\">\n",
       "  <thead>\n",
       "    <tr style=\"text-align: right;\">\n",
       "      <th></th>\n",
       "      <th>barra_mnemotecnico</th>\n",
       "      <th>barra_referencia_mnemotecnico</th>\n",
       "      <th>fecha</th>\n",
       "      <th>costo</th>\n",
       "      <th>nombre</th>\n",
       "    </tr>\n",
       "  </thead>\n",
       "  <tbody>\n",
       "  </tbody>\n",
       "</table>\n",
       "</div>"
      ],
      "text/plain": [
       "Empty DataFrame\n",
       "Columns: [barra_mnemotecnico, barra_referencia_mnemotecnico, fecha, costo, nombre]\n",
       "Index: []"
      ]
     },
     "execution_count": 66,
     "metadata": {},
     "output_type": "execute_result"
    }
   ],
   "source": [
    "table_name = 'cmg_provisional'\n",
    "cmg_prov = pd.read_sql('SELECT * FROM cmg_provisional', con=conn)\n",
    "cmg_prov"
   ]
  },
  {
   "cell_type": "code",
   "execution_count": 67,
   "id": "3f82d9aa-b7db-496f-a5e0-34faeb02de68",
   "metadata": {},
   "outputs": [
    {
     "data": {
      "text/html": [
       "<div>\n",
       "<style scoped>\n",
       "    .dataframe tbody tr th:only-of-type {\n",
       "        vertical-align: middle;\n",
       "    }\n",
       "\n",
       "    .dataframe tbody tr th {\n",
       "        vertical-align: top;\n",
       "    }\n",
       "\n",
       "    .dataframe thead th {\n",
       "        text-align: right;\n",
       "    }\n",
       "</style>\n",
       "<table border=\"1\" class=\"dataframe\">\n",
       "  <thead>\n",
       "    <tr style=\"text-align: right;\">\n",
       "      <th></th>\n",
       "      <th>barra_mnemotecnico</th>\n",
       "      <th>barra_referencia_mnemotecnico</th>\n",
       "      <th>fecha</th>\n",
       "      <th>costo</th>\n",
       "      <th>nombre</th>\n",
       "    </tr>\n",
       "  </thead>\n",
       "  <tbody>\n",
       "    <tr>\n",
       "      <th>0</th>\n",
       "      <td>BA01G004SE017G004</td>\n",
       "      <td>BA02T002SE032T002</td>\n",
       "      <td>2022-06-29 00:00:00</td>\n",
       "      <td>358.00</td>\n",
       "      <td>BA S/E SANTA MARIA 220KV BP1</td>\n",
       "    </tr>\n",
       "    <tr>\n",
       "      <th>1</th>\n",
       "      <td>BA01G004SE036G004</td>\n",
       "      <td>BA02T002SE032T002</td>\n",
       "      <td>2022-06-29 00:00:00</td>\n",
       "      <td>345.94</td>\n",
       "      <td>BA S/E GIS ANGOSTURA 220KV</td>\n",
       "    </tr>\n",
       "    <tr>\n",
       "      <th>2</th>\n",
       "      <td>BA01G010SE008G010</td>\n",
       "      <td>BA02T002SE032T002</td>\n",
       "      <td>2022-06-29 00:00:00</td>\n",
       "      <td>360.67</td>\n",
       "      <td>BA S/E VENTANAS 110KV BP1-1</td>\n",
       "    </tr>\n",
       "    <tr>\n",
       "      <th>3</th>\n",
       "      <td>BA01G018SE002G018</td>\n",
       "      <td>BA02T002SE032T002</td>\n",
       "      <td>2022-06-29 00:00:00</td>\n",
       "      <td>362.19</td>\n",
       "      <td>BA S/E MAPAL 154KV BP [NO_MOSTRAR]</td>\n",
       "    </tr>\n",
       "    <tr>\n",
       "      <th>4</th>\n",
       "      <td>BA01G021SE003G021</td>\n",
       "      <td>BA02T002SE032T002</td>\n",
       "      <td>2022-06-29 00:00:00</td>\n",
       "      <td>360.63</td>\n",
       "      <td>BA S/E CENTRAL BOCAMINA I 154KV BP1</td>\n",
       "    </tr>\n",
       "    <tr>\n",
       "      <th>...</th>\n",
       "      <td>...</td>\n",
       "      <td>...</td>\n",
       "      <td>...</td>\n",
       "      <td>...</td>\n",
       "      <td>...</td>\n",
       "    </tr>\n",
       "    <tr>\n",
       "      <th>4531</th>\n",
       "      <td>BA91L135SE052L135</td>\n",
       "      <td>BA02T002SE032T002</td>\n",
       "      <td>2022-06-29 23:00:00</td>\n",
       "      <td>358.52</td>\n",
       "      <td>BA S/E CHUQUICAMATA 220KV BP1</td>\n",
       "    </tr>\n",
       "    <tr>\n",
       "      <th>4532</th>\n",
       "      <td>BA93G235SE106G216</td>\n",
       "      <td>BA02T002SE032T002</td>\n",
       "      <td>2022-06-29 23:00:00</td>\n",
       "      <td>346.78</td>\n",
       "      <td>BA S/E MEJILLONES 110KV BP</td>\n",
       "    </tr>\n",
       "    <tr>\n",
       "      <th>4533</th>\n",
       "      <td>BA94G216SE031G216</td>\n",
       "      <td>BA02T002SE032T002</td>\n",
       "      <td>2022-06-29 23:00:00</td>\n",
       "      <td>367.58</td>\n",
       "      <td>BA S/E CENTRAL DIESEL ARICA 66KV BP1</td>\n",
       "    </tr>\n",
       "    <tr>\n",
       "      <th>4534</th>\n",
       "      <td>BA97G216SE106G216</td>\n",
       "      <td>BA02T002SE032T002</td>\n",
       "      <td>2022-06-29 23:00:00</td>\n",
       "      <td>346.78</td>\n",
       "      <td>BA S/E MEJILLONES 220KV BP</td>\n",
       "    </tr>\n",
       "    <tr>\n",
       "      <th>4535</th>\n",
       "      <td>BA99L117SE054L117</td>\n",
       "      <td>BA02T002SE032T002</td>\n",
       "      <td>2022-06-29 23:00:00</td>\n",
       "      <td>366.66</td>\n",
       "      <td>BA S/E COLLAHUASI 220KV BP1</td>\n",
       "    </tr>\n",
       "  </tbody>\n",
       "</table>\n",
       "<p>4536 rows × 5 columns</p>\n",
       "</div>"
      ],
      "text/plain": [
       "     barra_mnemotecnico barra_referencia_mnemotecnico               fecha  \\\n",
       "0     BA01G004SE017G004             BA02T002SE032T002 2022-06-29 00:00:00   \n",
       "1     BA01G004SE036G004             BA02T002SE032T002 2022-06-29 00:00:00   \n",
       "2     BA01G010SE008G010             BA02T002SE032T002 2022-06-29 00:00:00   \n",
       "3     BA01G018SE002G018             BA02T002SE032T002 2022-06-29 00:00:00   \n",
       "4     BA01G021SE003G021             BA02T002SE032T002 2022-06-29 00:00:00   \n",
       "...                 ...                           ...                 ...   \n",
       "4531  BA91L135SE052L135             BA02T002SE032T002 2022-06-29 23:00:00   \n",
       "4532  BA93G235SE106G216             BA02T002SE032T002 2022-06-29 23:00:00   \n",
       "4533  BA94G216SE031G216             BA02T002SE032T002 2022-06-29 23:00:00   \n",
       "4534  BA97G216SE106G216             BA02T002SE032T002 2022-06-29 23:00:00   \n",
       "4535  BA99L117SE054L117             BA02T002SE032T002 2022-06-29 23:00:00   \n",
       "\n",
       "       costo                                nombre  \n",
       "0     358.00          BA S/E SANTA MARIA 220KV BP1  \n",
       "1     345.94            BA S/E GIS ANGOSTURA 220KV  \n",
       "2     360.67           BA S/E VENTANAS 110KV BP1-1  \n",
       "3     362.19    BA S/E MAPAL 154KV BP [NO_MOSTRAR]  \n",
       "4     360.63   BA S/E CENTRAL BOCAMINA I 154KV BP1  \n",
       "...      ...                                   ...  \n",
       "4531  358.52         BA S/E CHUQUICAMATA 220KV BP1  \n",
       "4532  346.78            BA S/E MEJILLONES 110KV BP  \n",
       "4533  367.58  BA S/E CENTRAL DIESEL ARICA 66KV BP1  \n",
       "4534  346.78            BA S/E MEJILLONES 220KV BP  \n",
       "4535  366.66           BA S/E COLLAHUASI 220KV BP1  \n",
       "\n",
       "[4536 rows x 5 columns]"
      ]
     },
     "execution_count": 67,
     "metadata": {},
     "output_type": "execute_result"
    }
   ],
   "source": [
    "df"
   ]
  },
  {
   "cell_type": "code",
   "execution_count": 68,
   "id": "e32d03a9-e7bd-4ac7-b0ea-4a94c8b432b3",
   "metadata": {},
   "outputs": [
    {
     "data": {
      "text/plain": [
       "4536"
      ]
     },
     "execution_count": 68,
     "metadata": {},
     "output_type": "execute_result"
    }
   ],
   "source": [
    "# insert a bd\n",
    "df.to_sql(con=conn, name = 'cmg_provisional', if_exists = 'replace', index=False)"
   ]
  },
  {
   "cell_type": "code",
   "execution_count": 69,
   "id": "2fee12fb-cc2b-4c6c-9032-c6135176f2e3",
   "metadata": {},
   "outputs": [],
   "source": [
    "conn.close()"
   ]
  }
 ],
 "metadata": {
  "kernelspec": {
   "display_name": "Python 3 (ipykernel)",
   "language": "python",
   "name": "python3"
  },
  "language_info": {
   "codemirror_mode": {
    "name": "ipython",
    "version": 3
   },
   "file_extension": ".py",
   "mimetype": "text/x-python",
   "name": "python",
   "nbconvert_exporter": "python",
   "pygments_lexer": "ipython3",
   "version": "3.9.12"
  }
 },
 "nbformat": 4,
 "nbformat_minor": 5
}
